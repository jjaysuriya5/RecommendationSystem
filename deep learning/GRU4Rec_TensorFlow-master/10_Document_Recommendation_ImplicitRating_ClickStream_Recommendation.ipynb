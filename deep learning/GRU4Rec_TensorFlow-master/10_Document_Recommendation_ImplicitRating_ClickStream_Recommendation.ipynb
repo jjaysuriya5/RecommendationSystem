{
 "cells": [
  {
   "cell_type": "code",
   "execution_count": 4,
   "metadata": {},
   "outputs": [],
   "source": [
    "import pandas as pd\n",
    "import scipy.sparse as sparse\n",
    "import numpy as np\n",
    "import random\n",
    "import implicit\n",
    "from sklearn.preprocessing import MinMaxScaler"
   ]
  },
  {
   "cell_type": "code",
   "execution_count": 5,
   "metadata": {},
   "outputs": [],
   "source": [
    "articles_df = pd.read_csv('shared_articles.csv')\n",
    "interactions_df = pd.read_csv('users_interactions.csv')\n"
   ]
  },
  {
   "cell_type": "code",
   "execution_count": 6,
   "metadata": {},
   "outputs": [
    {
     "data": {
      "text/html": [
       "<div>\n",
       "<style scoped>\n",
       "    .dataframe tbody tr th:only-of-type {\n",
       "        vertical-align: middle;\n",
       "    }\n",
       "\n",
       "    .dataframe tbody tr th {\n",
       "        vertical-align: top;\n",
       "    }\n",
       "\n",
       "    .dataframe thead th {\n",
       "        text-align: right;\n",
       "    }\n",
       "</style>\n",
       "<table border=\"1\" class=\"dataframe\">\n",
       "  <thead>\n",
       "    <tr style=\"text-align: right;\">\n",
       "      <th></th>\n",
       "      <th>timestamp</th>\n",
       "      <th>eventType</th>\n",
       "      <th>contentId</th>\n",
       "      <th>authorPersonId</th>\n",
       "      <th>authorSessionId</th>\n",
       "      <th>authorUserAgent</th>\n",
       "      <th>authorRegion</th>\n",
       "      <th>authorCountry</th>\n",
       "      <th>contentType</th>\n",
       "      <th>url</th>\n",
       "      <th>title</th>\n",
       "      <th>text</th>\n",
       "      <th>lang</th>\n",
       "    </tr>\n",
       "  </thead>\n",
       "  <tbody>\n",
       "    <tr>\n",
       "      <th>0</th>\n",
       "      <td>1459192779</td>\n",
       "      <td>CONTENT REMOVED</td>\n",
       "      <td>-6451309518266745024</td>\n",
       "      <td>4340306774493623681</td>\n",
       "      <td>8940341205206233829</td>\n",
       "      <td>NaN</td>\n",
       "      <td>NaN</td>\n",
       "      <td>NaN</td>\n",
       "      <td>HTML</td>\n",
       "      <td>http://www.nytimes.com/2016/03/28/business/dea...</td>\n",
       "      <td>Ethereum, a Virtual Currency, Enables Transact...</td>\n",
       "      <td>All of this work is still very early. The firs...</td>\n",
       "      <td>en</td>\n",
       "    </tr>\n",
       "    <tr>\n",
       "      <th>1</th>\n",
       "      <td>1459193988</td>\n",
       "      <td>CONTENT SHARED</td>\n",
       "      <td>-4110354420726924665</td>\n",
       "      <td>4340306774493623681</td>\n",
       "      <td>8940341205206233829</td>\n",
       "      <td>NaN</td>\n",
       "      <td>NaN</td>\n",
       "      <td>NaN</td>\n",
       "      <td>HTML</td>\n",
       "      <td>http://www.nytimes.com/2016/03/28/business/dea...</td>\n",
       "      <td>Ethereum, a Virtual Currency, Enables Transact...</td>\n",
       "      <td>All of this work is still very early. The firs...</td>\n",
       "      <td>en</td>\n",
       "    </tr>\n",
       "  </tbody>\n",
       "</table>\n",
       "</div>"
      ],
      "text/plain": [
       "    timestamp        eventType            contentId       authorPersonId  \\\n",
       "0  1459192779  CONTENT REMOVED -6451309518266745024  4340306774493623681   \n",
       "1  1459193988   CONTENT SHARED -4110354420726924665  4340306774493623681   \n",
       "\n",
       "       authorSessionId authorUserAgent authorRegion authorCountry contentType  \\\n",
       "0  8940341205206233829             NaN          NaN           NaN        HTML   \n",
       "1  8940341205206233829             NaN          NaN           NaN        HTML   \n",
       "\n",
       "                                                 url  \\\n",
       "0  http://www.nytimes.com/2016/03/28/business/dea...   \n",
       "1  http://www.nytimes.com/2016/03/28/business/dea...   \n",
       "\n",
       "                                               title  \\\n",
       "0  Ethereum, a Virtual Currency, Enables Transact...   \n",
       "1  Ethereum, a Virtual Currency, Enables Transact...   \n",
       "\n",
       "                                                text lang  \n",
       "0  All of this work is still very early. The firs...   en  \n",
       "1  All of this work is still very early. The firs...   en  "
      ]
     },
     "execution_count": 6,
     "metadata": {},
     "output_type": "execute_result"
    }
   ],
   "source": [
    "articles_df.head(2)"
   ]
  },
  {
   "cell_type": "code",
   "execution_count": 7,
   "metadata": {},
   "outputs": [
    {
     "data": {
      "text/html": [
       "<div>\n",
       "<style scoped>\n",
       "    .dataframe tbody tr th:only-of-type {\n",
       "        vertical-align: middle;\n",
       "    }\n",
       "\n",
       "    .dataframe tbody tr th {\n",
       "        vertical-align: top;\n",
       "    }\n",
       "\n",
       "    .dataframe thead th {\n",
       "        text-align: right;\n",
       "    }\n",
       "</style>\n",
       "<table border=\"1\" class=\"dataframe\">\n",
       "  <thead>\n",
       "    <tr style=\"text-align: right;\">\n",
       "      <th></th>\n",
       "      <th>timestamp</th>\n",
       "      <th>eventType</th>\n",
       "      <th>contentId</th>\n",
       "      <th>personId</th>\n",
       "      <th>sessionId</th>\n",
       "      <th>userAgent</th>\n",
       "      <th>userRegion</th>\n",
       "      <th>userCountry</th>\n",
       "    </tr>\n",
       "  </thead>\n",
       "  <tbody>\n",
       "    <tr>\n",
       "      <th>0</th>\n",
       "      <td>1465413032</td>\n",
       "      <td>VIEW</td>\n",
       "      <td>-3499919498720038879</td>\n",
       "      <td>-8845298781299428018</td>\n",
       "      <td>1264196770339959068</td>\n",
       "      <td>NaN</td>\n",
       "      <td>NaN</td>\n",
       "      <td>NaN</td>\n",
       "    </tr>\n",
       "    <tr>\n",
       "      <th>1</th>\n",
       "      <td>1465412560</td>\n",
       "      <td>VIEW</td>\n",
       "      <td>8890720798209849691</td>\n",
       "      <td>-1032019229384696495</td>\n",
       "      <td>3621737643587579081</td>\n",
       "      <td>Mozilla/5.0 (Macintosh; Intel Mac OS X 10_11_2...</td>\n",
       "      <td>NY</td>\n",
       "      <td>US</td>\n",
       "    </tr>\n",
       "  </tbody>\n",
       "</table>\n",
       "</div>"
      ],
      "text/plain": [
       "    timestamp eventType            contentId             personId  \\\n",
       "0  1465413032      VIEW -3499919498720038879 -8845298781299428018   \n",
       "1  1465412560      VIEW  8890720798209849691 -1032019229384696495   \n",
       "\n",
       "             sessionId                                          userAgent  \\\n",
       "0  1264196770339959068                                                NaN   \n",
       "1  3621737643587579081  Mozilla/5.0 (Macintosh; Intel Mac OS X 10_11_2...   \n",
       "\n",
       "  userRegion userCountry  \n",
       "0        NaN         NaN  \n",
       "1         NY          US  "
      ]
     },
     "execution_count": 7,
     "metadata": {},
     "output_type": "execute_result"
    }
   ],
   "source": [
    "interactions_df.head(2)"
   ]
  },
  {
   "cell_type": "code",
   "execution_count": 8,
   "metadata": {},
   "outputs": [
    {
     "name": "stdout",
     "output_type": "stream",
     "text": [
      "(3122, 13)\n",
      "(72312, 8)\n"
     ]
    }
   ],
   "source": [
    "print( articles_df.shape )\n",
    "print( interactions_df.shape )"
   ]
  },
  {
   "cell_type": "markdown",
   "metadata": {},
   "source": [
    "# Dropping unwanted columns "
   ]
  },
  {
   "cell_type": "code",
   "execution_count": 9,
   "metadata": {},
   "outputs": [],
   "source": [
    "articles_df.drop(['authorUserAgent', 'authorRegion', 'authorCountry'], axis=1, inplace=True)\n",
    "interactions_df.drop(['userAgent', 'userRegion', 'userCountry'], axis=1, inplace=True)"
   ]
  },
  {
   "cell_type": "code",
   "execution_count": 10,
   "metadata": {},
   "outputs": [
    {
     "data": {
      "text/plain": [
       "CONTENT SHARED     3047\n",
       "CONTENT REMOVED      75\n",
       "Name: eventType, dtype: int64"
      ]
     },
     "execution_count": 10,
     "metadata": {},
     "output_type": "execute_result"
    }
   ],
   "source": [
    "articles_df['eventType'].value_counts()"
   ]
  },
  {
   "cell_type": "code",
   "execution_count": 11,
   "metadata": {},
   "outputs": [],
   "source": [
    "articles_df = articles_df[articles_df['eventType'] == 'CONTENT SHARED']\n",
    "articles_df.drop('eventType', axis=1, inplace=True)"
   ]
  },
  {
   "cell_type": "code",
   "execution_count": 12,
   "metadata": {},
   "outputs": [
    {
     "data": {
      "text/html": [
       "<div>\n",
       "<style scoped>\n",
       "    .dataframe tbody tr th:only-of-type {\n",
       "        vertical-align: middle;\n",
       "    }\n",
       "\n",
       "    .dataframe tbody tr th {\n",
       "        vertical-align: top;\n",
       "    }\n",
       "\n",
       "    .dataframe thead th {\n",
       "        text-align: right;\n",
       "    }\n",
       "</style>\n",
       "<table border=\"1\" class=\"dataframe\">\n",
       "  <thead>\n",
       "    <tr style=\"text-align: right;\">\n",
       "      <th></th>\n",
       "      <th>timestamp</th>\n",
       "      <th>contentId</th>\n",
       "      <th>authorPersonId</th>\n",
       "      <th>authorSessionId</th>\n",
       "      <th>contentType</th>\n",
       "      <th>url</th>\n",
       "      <th>title</th>\n",
       "      <th>text</th>\n",
       "      <th>lang</th>\n",
       "    </tr>\n",
       "  </thead>\n",
       "  <tbody>\n",
       "    <tr>\n",
       "      <th>1</th>\n",
       "      <td>1459193988</td>\n",
       "      <td>-4110354420726924665</td>\n",
       "      <td>4340306774493623681</td>\n",
       "      <td>8940341205206233829</td>\n",
       "      <td>HTML</td>\n",
       "      <td>http://www.nytimes.com/2016/03/28/business/dea...</td>\n",
       "      <td>Ethereum, a Virtual Currency, Enables Transact...</td>\n",
       "      <td>All of this work is still very early. The firs...</td>\n",
       "      <td>en</td>\n",
       "    </tr>\n",
       "    <tr>\n",
       "      <th>2</th>\n",
       "      <td>1459194146</td>\n",
       "      <td>-7292285110016212249</td>\n",
       "      <td>4340306774493623681</td>\n",
       "      <td>8940341205206233829</td>\n",
       "      <td>HTML</td>\n",
       "      <td>http://cointelegraph.com/news/bitcoin-future-w...</td>\n",
       "      <td>Bitcoin Future: When GBPcoin of Branson Wins O...</td>\n",
       "      <td>The alarm clock wakes me at 8:00 with stream o...</td>\n",
       "      <td>en</td>\n",
       "    </tr>\n",
       "  </tbody>\n",
       "</table>\n",
       "</div>"
      ],
      "text/plain": [
       "    timestamp            contentId       authorPersonId      authorSessionId  \\\n",
       "1  1459193988 -4110354420726924665  4340306774493623681  8940341205206233829   \n",
       "2  1459194146 -7292285110016212249  4340306774493623681  8940341205206233829   \n",
       "\n",
       "  contentType                                                url  \\\n",
       "1        HTML  http://www.nytimes.com/2016/03/28/business/dea...   \n",
       "2        HTML  http://cointelegraph.com/news/bitcoin-future-w...   \n",
       "\n",
       "                                               title  \\\n",
       "1  Ethereum, a Virtual Currency, Enables Transact...   \n",
       "2  Bitcoin Future: When GBPcoin of Branson Wins O...   \n",
       "\n",
       "                                                text lang  \n",
       "1  All of this work is still very early. The firs...   en  \n",
       "2  The alarm clock wakes me at 8:00 with stream o...   en  "
      ]
     },
     "execution_count": 12,
     "metadata": {},
     "output_type": "execute_result"
    }
   ],
   "source": [
    " articles_df.head(2)"
   ]
  },
  {
   "cell_type": "code",
   "execution_count": 13,
   "metadata": {},
   "outputs": [],
   "source": [
    "df = pd.merge(interactions_df[['contentId','personId', 'eventType']], articles_df[['contentId', 'title']], how = 'inner', on = 'contentId')"
   ]
  },
  {
   "cell_type": "code",
   "execution_count": 15,
   "metadata": {},
   "outputs": [
    {
     "data": {
      "text/plain": [
       "(72269, 4)"
      ]
     },
     "execution_count": 15,
     "metadata": {},
     "output_type": "execute_result"
    }
   ],
   "source": [
    "df.shape"
   ]
  },
  {
   "cell_type": "code",
   "execution_count": 18,
   "metadata": {},
   "outputs": [],
   "source": [
    "df.drop_duplicates(inplace = True )"
   ]
  },
  {
   "cell_type": "code",
   "execution_count": 19,
   "metadata": {},
   "outputs": [
    {
     "data": {
      "text/plain": [
       "(50910, 4)"
      ]
     },
     "execution_count": 19,
     "metadata": {},
     "output_type": "execute_result"
    }
   ],
   "source": [
    "df.shape"
   ]
  },
  {
   "cell_type": "code",
   "execution_count": 20,
   "metadata": {},
   "outputs": [
    {
     "data": {
      "text/html": [
       "<div>\n",
       "<style scoped>\n",
       "    .dataframe tbody tr th:only-of-type {\n",
       "        vertical-align: middle;\n",
       "    }\n",
       "\n",
       "    .dataframe tbody tr th {\n",
       "        vertical-align: top;\n",
       "    }\n",
       "\n",
       "    .dataframe thead th {\n",
       "        text-align: right;\n",
       "    }\n",
       "</style>\n",
       "<table border=\"1\" class=\"dataframe\">\n",
       "  <thead>\n",
       "    <tr style=\"text-align: right;\">\n",
       "      <th></th>\n",
       "      <th>contentId</th>\n",
       "      <th>personId</th>\n",
       "      <th>eventType</th>\n",
       "      <th>title</th>\n",
       "    </tr>\n",
       "  </thead>\n",
       "  <tbody>\n",
       "    <tr>\n",
       "      <th>0</th>\n",
       "      <td>-3499919498720038879</td>\n",
       "      <td>-8845298781299428018</td>\n",
       "      <td>VIEW</td>\n",
       "      <td>Hiri wants to fix the workplace email problem</td>\n",
       "    </tr>\n",
       "    <tr>\n",
       "      <th>2</th>\n",
       "      <td>-3499919498720038879</td>\n",
       "      <td>-108842214936804958</td>\n",
       "      <td>VIEW</td>\n",
       "      <td>Hiri wants to fix the workplace email problem</td>\n",
       "    </tr>\n",
       "    <tr>\n",
       "      <th>3</th>\n",
       "      <td>-3499919498720038879</td>\n",
       "      <td>-1443636648652872475</td>\n",
       "      <td>VIEW</td>\n",
       "      <td>Hiri wants to fix the workplace email problem</td>\n",
       "    </tr>\n",
       "    <tr>\n",
       "      <th>6</th>\n",
       "      <td>-3499919498720038879</td>\n",
       "      <td>-8020832670974472349</td>\n",
       "      <td>VIEW</td>\n",
       "      <td>Hiri wants to fix the workplace email problem</td>\n",
       "    </tr>\n",
       "    <tr>\n",
       "      <th>8</th>\n",
       "      <td>-3499919498720038879</td>\n",
       "      <td>-9009798162809551896</td>\n",
       "      <td>LIKE</td>\n",
       "      <td>Hiri wants to fix the workplace email problem</td>\n",
       "    </tr>\n",
       "  </tbody>\n",
       "</table>\n",
       "</div>"
      ],
      "text/plain": [
       "             contentId             personId eventType  \\\n",
       "0 -3499919498720038879 -8845298781299428018      VIEW   \n",
       "2 -3499919498720038879  -108842214936804958      VIEW   \n",
       "3 -3499919498720038879 -1443636648652872475      VIEW   \n",
       "6 -3499919498720038879 -8020832670974472349      VIEW   \n",
       "8 -3499919498720038879 -9009798162809551896      LIKE   \n",
       "\n",
       "                                           title  \n",
       "0  Hiri wants to fix the workplace email problem  \n",
       "2  Hiri wants to fix the workplace email problem  \n",
       "3  Hiri wants to fix the workplace email problem  \n",
       "6  Hiri wants to fix the workplace email problem  \n",
       "8  Hiri wants to fix the workplace email problem  "
      ]
     },
     "execution_count": 20,
     "metadata": {},
     "output_type": "execute_result"
    }
   ],
   "source": [
    "df.head(5)"
   ]
  },
  {
   "cell_type": "code",
   "execution_count": 21,
   "metadata": {},
   "outputs": [
    {
     "data": {
      "text/plain": [
       "VIEW               40213\n",
       "LIKE                5670\n",
       "BOOKMARK            2202\n",
       "COMMENT CREATED     1427\n",
       "FOLLOW              1398\n",
       "Name: eventType, dtype: int64"
      ]
     },
     "execution_count": 21,
     "metadata": {},
     "output_type": "execute_result"
    }
   ],
   "source": [
    "df['eventType'].value_counts()"
   ]
  },
  {
   "cell_type": "code",
   "execution_count": 22,
   "metadata": {},
   "outputs": [
    {
     "data": {
      "text/html": [
       "<div>\n",
       "<style scoped>\n",
       "    .dataframe tbody tr th:only-of-type {\n",
       "        vertical-align: middle;\n",
       "    }\n",
       "\n",
       "    .dataframe tbody tr th {\n",
       "        vertical-align: top;\n",
       "    }\n",
       "\n",
       "    .dataframe thead th {\n",
       "        text-align: right;\n",
       "    }\n",
       "</style>\n",
       "<table border=\"1\" class=\"dataframe\">\n",
       "  <thead>\n",
       "    <tr style=\"text-align: right;\">\n",
       "      <th></th>\n",
       "      <th>contentId</th>\n",
       "      <th>personId</th>\n",
       "      <th>eventType</th>\n",
       "      <th>title</th>\n",
       "      <th>eventStrength</th>\n",
       "    </tr>\n",
       "  </thead>\n",
       "  <tbody>\n",
       "    <tr>\n",
       "      <th>0</th>\n",
       "      <td>-3499919498720038879</td>\n",
       "      <td>-8845298781299428018</td>\n",
       "      <td>VIEW</td>\n",
       "      <td>Hiri wants to fix the workplace email problem</td>\n",
       "      <td>1.0</td>\n",
       "    </tr>\n",
       "    <tr>\n",
       "      <th>2</th>\n",
       "      <td>-3499919498720038879</td>\n",
       "      <td>-108842214936804958</td>\n",
       "      <td>VIEW</td>\n",
       "      <td>Hiri wants to fix the workplace email problem</td>\n",
       "      <td>1.0</td>\n",
       "    </tr>\n",
       "    <tr>\n",
       "      <th>3</th>\n",
       "      <td>-3499919498720038879</td>\n",
       "      <td>-1443636648652872475</td>\n",
       "      <td>VIEW</td>\n",
       "      <td>Hiri wants to fix the workplace email problem</td>\n",
       "      <td>1.0</td>\n",
       "    </tr>\n",
       "    <tr>\n",
       "      <th>6</th>\n",
       "      <td>-3499919498720038879</td>\n",
       "      <td>-8020832670974472349</td>\n",
       "      <td>VIEW</td>\n",
       "      <td>Hiri wants to fix the workplace email problem</td>\n",
       "      <td>1.0</td>\n",
       "    </tr>\n",
       "    <tr>\n",
       "      <th>8</th>\n",
       "      <td>-3499919498720038879</td>\n",
       "      <td>-9009798162809551896</td>\n",
       "      <td>LIKE</td>\n",
       "      <td>Hiri wants to fix the workplace email problem</td>\n",
       "      <td>2.0</td>\n",
       "    </tr>\n",
       "  </tbody>\n",
       "</table>\n",
       "</div>"
      ],
      "text/plain": [
       "             contentId             personId eventType  \\\n",
       "0 -3499919498720038879 -8845298781299428018      VIEW   \n",
       "2 -3499919498720038879  -108842214936804958      VIEW   \n",
       "3 -3499919498720038879 -1443636648652872475      VIEW   \n",
       "6 -3499919498720038879 -8020832670974472349      VIEW   \n",
       "8 -3499919498720038879 -9009798162809551896      LIKE   \n",
       "\n",
       "                                           title  eventStrength  \n",
       "0  Hiri wants to fix the workplace email problem            1.0  \n",
       "2  Hiri wants to fix the workplace email problem            1.0  \n",
       "3  Hiri wants to fix the workplace email problem            1.0  \n",
       "6  Hiri wants to fix the workplace email problem            1.0  \n",
       "8  Hiri wants to fix the workplace email problem            2.0  "
      ]
     },
     "execution_count": 22,
     "metadata": {},
     "output_type": "execute_result"
    }
   ],
   "source": [
    "event_type_strength = {\n",
    "   'VIEW': 1.0,\n",
    "   'LIKE': 2.0, \n",
    "   'BOOKMARK': 3.0, \n",
    "   'FOLLOW': 4.0,\n",
    "   'COMMENT CREATED': 5.0,  \n",
    "}\n",
    "\n",
    "df['eventStrength'] = df['eventType'].apply(lambda x: event_type_strength[x])\n",
    "df.head()"
   ]
  },
  {
   "cell_type": "code",
   "execution_count": 26,
   "metadata": {},
   "outputs": [
    {
     "data": {
      "text/html": [
       "<div>\n",
       "<style scoped>\n",
       "    .dataframe tbody tr th:only-of-type {\n",
       "        vertical-align: middle;\n",
       "    }\n",
       "\n",
       "    .dataframe tbody tr th {\n",
       "        vertical-align: top;\n",
       "    }\n",
       "\n",
       "    .dataframe thead th {\n",
       "        text-align: right;\n",
       "    }\n",
       "</style>\n",
       "<table border=\"1\" class=\"dataframe\">\n",
       "  <thead>\n",
       "    <tr style=\"text-align: right;\">\n",
       "      <th></th>\n",
       "      <th>personId</th>\n",
       "      <th>contentId</th>\n",
       "      <th>title</th>\n",
       "      <th>eventStrength</th>\n",
       "      <th>person_id</th>\n",
       "      <th>content_id</th>\n",
       "    </tr>\n",
       "  </thead>\n",
       "  <tbody>\n",
       "    <tr>\n",
       "      <th>13240</th>\n",
       "      <td>-2726721797588771398</td>\n",
       "      <td>8890720798209849691</td>\n",
       "      <td>Top 10 Intranet Trends of 2016</td>\n",
       "      <td>1.0</td>\n",
       "      <td>675</td>\n",
       "      <td>2925</td>\n",
       "    </tr>\n",
       "    <tr>\n",
       "      <th>6000</th>\n",
       "      <td>-6395289021795478412</td>\n",
       "      <td>-908052164352446106</td>\n",
       "      <td>IoT a favor do relacionamento médico-paciente</td>\n",
       "      <td>1.0</td>\n",
       "      <td>278</td>\n",
       "      <td>1325</td>\n",
       "    </tr>\n",
       "    <tr>\n",
       "      <th>20129</th>\n",
       "      <td>-108842214936804958</td>\n",
       "      <td>3172866488852888544</td>\n",
       "      <td>Google Is Finally Redesigning Its Biggest Cash...</td>\n",
       "      <td>1.0</td>\n",
       "      <td>926</td>\n",
       "      <td>1985</td>\n",
       "    </tr>\n",
       "    <tr>\n",
       "      <th>39586</th>\n",
       "      <td>8698209668239173600</td>\n",
       "      <td>3058137260516373249</td>\n",
       "      <td>Now we know how profitable Microsoft's cloud b...</td>\n",
       "      <td>1.0</td>\n",
       "      <td>1833</td>\n",
       "      <td>1962</td>\n",
       "    </tr>\n",
       "    <tr>\n",
       "      <th>26743</th>\n",
       "      <td>2833428826475063405</td>\n",
       "      <td>-2447632164766022033</td>\n",
       "      <td>O que o GitHub tem a nos dizer sobre os estere...</td>\n",
       "      <td>1.0</td>\n",
       "      <td>1235</td>\n",
       "      <td>1075</td>\n",
       "    </tr>\n",
       "    <tr>\n",
       "      <th>537</th>\n",
       "      <td>-9016528795238256703</td>\n",
       "      <td>7507067965574797372</td>\n",
       "      <td>Um bilhão de arquivos mostram quem vence a dis...</td>\n",
       "      <td>1.0</td>\n",
       "      <td>17</td>\n",
       "      <td>2702</td>\n",
       "    </tr>\n",
       "    <tr>\n",
       "      <th>33371</th>\n",
       "      <td>5127372011815639401</td>\n",
       "      <td>-3675009040647936899</td>\n",
       "      <td>Ubuntu recebe suporte ao React Native e aplica...</td>\n",
       "      <td>3.0</td>\n",
       "      <td>1466</td>\n",
       "      <td>903</td>\n",
       "    </tr>\n",
       "    <tr>\n",
       "      <th>32634</th>\n",
       "      <td>4531872167062142431</td>\n",
       "      <td>3575694866055127253</td>\n",
       "      <td>Drupal 8.1.0 is now available</td>\n",
       "      <td>1.0</td>\n",
       "      <td>1414</td>\n",
       "      <td>2051</td>\n",
       "    </tr>\n",
       "    <tr>\n",
       "      <th>9527</th>\n",
       "      <td>-4160173091318455989</td>\n",
       "      <td>-8099145207792678586</td>\n",
       "      <td>TechCrunch launches a personalized news recomm...</td>\n",
       "      <td>1.0</td>\n",
       "      <td>519</td>\n",
       "      <td>208</td>\n",
       "    </tr>\n",
       "    <tr>\n",
       "      <th>24519</th>\n",
       "      <td>1811781596621121379</td>\n",
       "      <td>-2405892683303291957</td>\n",
       "      <td>\"5G está para IoT como 4G esteve para o Smartp...</td>\n",
       "      <td>1.0</td>\n",
       "      <td>1135</td>\n",
       "      <td>1084</td>\n",
       "    </tr>\n",
       "  </tbody>\n",
       "</table>\n",
       "</div>"
      ],
      "text/plain": [
       "                  personId            contentId  \\\n",
       "13240 -2726721797588771398  8890720798209849691   \n",
       "6000  -6395289021795478412  -908052164352446106   \n",
       "20129  -108842214936804958  3172866488852888544   \n",
       "39586  8698209668239173600  3058137260516373249   \n",
       "26743  2833428826475063405 -2447632164766022033   \n",
       "537   -9016528795238256703  7507067965574797372   \n",
       "33371  5127372011815639401 -3675009040647936899   \n",
       "32634  4531872167062142431  3575694866055127253   \n",
       "9527  -4160173091318455989 -8099145207792678586   \n",
       "24519  1811781596621121379 -2405892683303291957   \n",
       "\n",
       "                                                   title  eventStrength  \\\n",
       "13240                     Top 10 Intranet Trends of 2016            1.0   \n",
       "6000       IoT a favor do relacionamento médico-paciente            1.0   \n",
       "20129  Google Is Finally Redesigning Its Biggest Cash...            1.0   \n",
       "39586  Now we know how profitable Microsoft's cloud b...            1.0   \n",
       "26743  O que o GitHub tem a nos dizer sobre os estere...            1.0   \n",
       "537    Um bilhão de arquivos mostram quem vence a dis...            1.0   \n",
       "33371  Ubuntu recebe suporte ao React Native e aplica...            3.0   \n",
       "32634                      Drupal 8.1.0 is now available            1.0   \n",
       "9527   TechCrunch launches a personalized news recomm...            1.0   \n",
       "24519  \"5G está para IoT como 4G esteve para o Smartp...            1.0   \n",
       "\n",
       "       person_id  content_id  \n",
       "13240        675        2925  \n",
       "6000         278        1325  \n",
       "20129        926        1985  \n",
       "39586       1833        1962  \n",
       "26743       1235        1075  \n",
       "537           17        2702  \n",
       "33371       1466         903  \n",
       "32634       1414        2051  \n",
       "9527         519         208  \n",
       "24519       1135        1084  "
      ]
     },
     "execution_count": 26,
     "metadata": {},
     "output_type": "execute_result"
    }
   ],
   "source": [
    "grouped_df = df.groupby(['personId', 'contentId', 'title']).sum().reset_index()\n",
    "\n",
    "grouped_df['title'] = grouped_df['title'].astype(\"category\")\n",
    "grouped_df['personId'] = grouped_df['personId'].astype(\"category\")\n",
    "grouped_df['contentId'] = grouped_df['contentId'].astype(\"category\")\n",
    "grouped_df['person_id'] = grouped_df['personId'].cat.codes\n",
    "grouped_df['content_id'] = grouped_df['contentId'].cat.codes\n",
    "\n",
    "grouped_df.sample(10)"
   ]
  },
  {
   "cell_type": "code",
   "execution_count": 37,
   "metadata": {},
   "outputs": [],
   "source": [
    "sparse_content_person = sparse.csr_matrix((grouped_df['eventStrength'].astype(float), (grouped_df['content_id'], grouped_df['person_id'])))\n",
    "sparse_person_content = sparse.csr_matrix((grouped_df['eventStrength'].astype(float), (grouped_df['person_id'], grouped_df['content_id'])))"
   ]
  },
  {
   "cell_type": "code",
   "execution_count": 39,
   "metadata": {},
   "outputs": [
    {
     "name": "stderr",
     "output_type": "stream",
     "text": [
      "WARNING:root:Intel MKL BLAS detected. Its highly recommend to set the environment variable 'export MKL_NUM_THREADS=1' to disable its internal multithreading\n"
     ]
    }
   ],
   "source": [
    "model = implicit.als.AlternatingLeastSquares(factors=20, regularization=0.1, iterations=50)"
   ]
  },
  {
   "cell_type": "code",
   "execution_count": 40,
   "metadata": {},
   "outputs": [
    {
     "name": "stderr",
     "output_type": "stream",
     "text": [
      "100%|████████████████████████████████████████████████████████████████████████████████| 50.0/50 [00:01<00:00, 30.24it/s]\n"
     ]
    }
   ],
   "source": [
    "alpha = 15\n",
    "data = (sparse_content_person * alpha).astype('double')\n",
    "\n",
    "# Fit the model\n",
    "model.fit(data)"
   ]
  },
  {
   "cell_type": "code",
   "execution_count": 46,
   "metadata": {},
   "outputs": [],
   "source": [
    "content_id = 450\n",
    "n_similar = 10\n",
    "\n",
    "person_vecs = model.user_factors\n",
    "content_vecs = model.item_factors\n",
    "\n",
    "content_norms = np.sqrt((content_vecs * content_vecs).sum(axis=1))\n",
    "\n",
    "scores = content_vecs.dot(content_vecs[content_id]) / content_norms\n",
    "top_idx = np.argpartition(scores, -n_similar)[-n_similar:]\n",
    "similar = sorted(zip(top_idx, scores[top_idx] / content_norms[content_id]), key=lambda x: -x[1])"
   ]
  },
  {
   "cell_type": "code",
   "execution_count": 48,
   "metadata": {},
   "outputs": [
    {
     "name": "stdout",
     "output_type": "stream",
     "text": [
      "Google's fair use victory is good for open source\n",
      "Up your DevOps chops with this online Kubernetes class\n",
      "Google lags behind Amazon and Microsoft's cloud in one important area\n",
      "Google's Cloud Dataflow stomps on Apache Spark in new benchmark tests\n",
      "Building immutable entities into Google Cloud Datastore\n",
      "Deep learning software knows that a rose is a rose is a rosa rubiginosa\n",
      "Inside OpenAI, Elon Musk's Wild Plan to Set Artificial Intelligence Free\n",
      "Automate deployments and traffic splitting with the App Engine Admin API\n",
      "Artificial Intelligence's White Guy Problem\n",
      "An independent organization just ranked Google as the best cloud, beating Amazon\n"
     ]
    }
   ],
   "source": [
    "for content in similar:\n",
    "    idx, score = content\n",
    "    print(grouped_df.title.loc[grouped_df.content_id == idx].iloc[0])"
   ]
  },
  {
   "cell_type": "code",
   "execution_count": 50,
   "metadata": {},
   "outputs": [],
   "source": [
    "def recommend(person_id, sparse_person_content, person_vecs, content_vecs, num_contents=10):\n",
    "    # Get the interactions scores from the sparse person content matrix\n",
    "    person_interactions = sparse_person_content[person_id,:].toarray()\n",
    "    # Add 1 to everything, so that articles with no interaction yet become equal to 1\n",
    "    person_interactions = person_interactions.reshape(-1) + 1\n",
    "    # Make articles already interacted zero\n",
    "    person_interactions[person_interactions > 1] = 0\n",
    "    # Get dot product of person vector and all content vectors\n",
    "    rec_vector = person_vecs[person_id,:].dot(content_vecs.T).toarray()\n",
    "    \n",
    "    # Scale this recommendation vector between 0 and 1\n",
    "    min_max = MinMaxScaler()\n",
    "    rec_vector_scaled = min_max.fit_transform(rec_vector.reshape(-1,1))[:,0]\n",
    "    # Content already interacted have their recommendation multiplied by zero\n",
    "    recommend_vector = person_interactions * rec_vector_scaled\n",
    "    # Sort the indices of the content into order of best recommendations\n",
    "    content_idx = np.argsort(recommend_vector)[::-1][:num_contents]\n",
    "    \n",
    "    # Start empty list to store titles and scores\n",
    "    titles = []\n",
    "    scores = []\n",
    "\n",
    "    for idx in content_idx:\n",
    "        # Append titles and scores to the list\n",
    "        titles.append(grouped_df.title.loc[grouped_df.content_id == idx].iloc[0])\n",
    "        scores.append(recommend_vector[idx])\n",
    "\n",
    "    recommendations = pd.DataFrame({'title': titles, 'score': scores})\n",
    "\n",
    "    return recommendations"
   ]
  },
  {
   "cell_type": "code",
   "execution_count": 51,
   "metadata": {},
   "outputs": [
    {
     "name": "stdout",
     "output_type": "stream",
     "text": [
      "                                               title     score\n",
      "0  Custo do Erro - Cinco motivos para investir em...  1.000000\n",
      "1  Former Google career coach shares a visual tri...  0.970806\n",
      "2  Ray Kurzweil: The world isn't getting worse - ...  0.835686\n",
      "3       10 Modern Software Over-Engineering Mistakes  0.829900\n",
      "4  Do You Suffer From Deployment Anxiety? - DZone...  0.798516\n",
      "5  Novo workaholic trabalha, pratica esportes e t...  0.792261\n",
      "6           Drupal and ambitious digital experiences  0.791679\n",
      "7                       Discutindo Devops na Prática  0.767872\n",
      "8  Psicóloga de Harvard diz que as pessoas julgam...  0.750034\n",
      "9               The technology behind preview photos  0.743581\n"
     ]
    }
   ],
   "source": [
    "#  Get the trained person and content vectors. We convert them to csr matrices\n",
    "person_vecs = sparse.csr_matrix(model.user_factors)\n",
    "content_vecs = sparse.csr_matrix(model.item_factors)\n",
    "\n",
    "# Create recommendations for person with id 50\n",
    "person_id = 50\n",
    "\n",
    "recommendations = recommend(person_id, sparse_person_content, person_vecs, content_vecs)\n",
    "\n",
    "print(recommendations)"
   ]
  },
  {
   "cell_type": "code",
   "execution_count": 52,
   "metadata": {},
   "outputs": [
    {
     "data": {
      "text/html": [
       "<div>\n",
       "<style scoped>\n",
       "    .dataframe tbody tr th:only-of-type {\n",
       "        vertical-align: middle;\n",
       "    }\n",
       "\n",
       "    .dataframe tbody tr th {\n",
       "        vertical-align: top;\n",
       "    }\n",
       "\n",
       "    .dataframe thead th {\n",
       "        text-align: right;\n",
       "    }\n",
       "</style>\n",
       "<table border=\"1\" class=\"dataframe\">\n",
       "  <thead>\n",
       "    <tr style=\"text-align: right;\">\n",
       "      <th></th>\n",
       "      <th>title</th>\n",
       "      <th>person_id</th>\n",
       "      <th>eventStrength</th>\n",
       "    </tr>\n",
       "  </thead>\n",
       "  <tbody>\n",
       "    <tr>\n",
       "      <th>1727</th>\n",
       "      <td>Acquia Engage 2016: Day One</td>\n",
       "      <td>50</td>\n",
       "      <td>3.0</td>\n",
       "    </tr>\n",
       "    <tr>\n",
       "      <th>1791</th>\n",
       "      <td>Um bilhão de arquivos mostram quem vence a dis...</td>\n",
       "      <td>50</td>\n",
       "      <td>3.0</td>\n",
       "    </tr>\n",
       "    <tr>\n",
       "      <th>1781</th>\n",
       "      <td>Acquia Engage Awards Finalists Announced</td>\n",
       "      <td>50</td>\n",
       "      <td>3.0</td>\n",
       "    </tr>\n",
       "    <tr>\n",
       "      <th>1778</th>\n",
       "      <td>Sharing innovation with your competitors - Dri...</td>\n",
       "      <td>50</td>\n",
       "      <td>3.0</td>\n",
       "    </tr>\n",
       "    <tr>\n",
       "      <th>1769</th>\n",
       "      <td>Don't document your code. Code your documentat...</td>\n",
       "      <td>50</td>\n",
       "      <td>3.0</td>\n",
       "    </tr>\n",
       "    <tr>\n",
       "      <th>1747</th>\n",
       "      <td>Who sponsors Drupal development? | Dries Buytaert</td>\n",
       "      <td>50</td>\n",
       "      <td>3.0</td>\n",
       "    </tr>\n",
       "    <tr>\n",
       "      <th>1768</th>\n",
       "      <td>Johnson &amp; Johnson comprará grupo suíço por US$...</td>\n",
       "      <td>50</td>\n",
       "      <td>1.0</td>\n",
       "    </tr>\n",
       "    <tr>\n",
       "      <th>1767</th>\n",
       "      <td>Slack and Google announce partnership focused ...</td>\n",
       "      <td>50</td>\n",
       "      <td>1.0</td>\n",
       "    </tr>\n",
       "    <tr>\n",
       "      <th>1770</th>\n",
       "      <td>Rating the English Proficiency of Countries an...</td>\n",
       "      <td>50</td>\n",
       "      <td>1.0</td>\n",
       "    </tr>\n",
       "    <tr>\n",
       "      <th>1766</th>\n",
       "      <td>Infográfico: Algoritmos para Aprendizado de Má...</td>\n",
       "      <td>50</td>\n",
       "      <td>1.0</td>\n",
       "    </tr>\n",
       "  </tbody>\n",
       "</table>\n",
       "</div>"
      ],
      "text/plain": [
       "                                                  title  person_id  \\\n",
       "1727                        Acquia Engage 2016: Day One         50   \n",
       "1791  Um bilhão de arquivos mostram quem vence a dis...         50   \n",
       "1781           Acquia Engage Awards Finalists Announced         50   \n",
       "1778  Sharing innovation with your competitors - Dri...         50   \n",
       "1769  Don't document your code. Code your documentat...         50   \n",
       "1747  Who sponsors Drupal development? | Dries Buytaert         50   \n",
       "1768  Johnson & Johnson comprará grupo suíço por US$...         50   \n",
       "1767  Slack and Google announce partnership focused ...         50   \n",
       "1770  Rating the English Proficiency of Countries an...         50   \n",
       "1766  Infográfico: Algoritmos para Aprendizado de Má...         50   \n",
       "\n",
       "      eventStrength  \n",
       "1727            3.0  \n",
       "1791            3.0  \n",
       "1781            3.0  \n",
       "1778            3.0  \n",
       "1769            3.0  \n",
       "1747            3.0  \n",
       "1768            1.0  \n",
       "1767            1.0  \n",
       "1770            1.0  \n",
       "1766            1.0  "
      ]
     },
     "execution_count": 52,
     "metadata": {},
     "output_type": "execute_result"
    }
   ],
   "source": [
    "grouped_df.loc[grouped_df['person_id'] == 50].sort_values(by=['eventStrength'], ascending=False)[['title', 'person_id', 'eventStrength']].head(10)"
   ]
  },
  {
   "cell_type": "code",
   "execution_count": 53,
   "metadata": {},
   "outputs": [
    {
     "name": "stdout",
     "output_type": "stream",
     "text": [
      "                                               title     score\n",
      "0                   Livro: Retrospectivas Divertidas  0.984075\n",
      "1          Google Ranking Factors: The Complete List  0.841709\n",
      "2  Novo workaholic trabalha, pratica esportes e t...  0.823566\n",
      "3           Drupal and ambitious digital experiences  0.779686\n",
      "4  ITA está oferecendo 10 cursos gratuitos a dist...  0.761514\n",
      "5  How to Improve 8 Major Problem Areas for Japan...  0.755990\n",
      "6                    40 Basic Japanese conversations  0.692540\n",
      "7  Uber China will reportedly merge with archriva...  0.691871\n",
      "8  Psicóloga de Harvard diz que as pessoas julgam...  0.685263\n",
      "9                               Japanese for dummies  0.659207\n"
     ]
    }
   ],
   "source": [
    "person_id = 2\n",
    "\n",
    "recommendations = recommend(person_id, sparse_person_content, person_vecs, content_vecs)\n",
    "\n",
    "print(recommendations)"
   ]
  },
  {
   "cell_type": "code",
   "execution_count": 54,
   "metadata": {},
   "outputs": [
    {
     "data": {
      "text/html": [
       "<div>\n",
       "<style scoped>\n",
       "    .dataframe tbody tr th:only-of-type {\n",
       "        vertical-align: middle;\n",
       "    }\n",
       "\n",
       "    .dataframe tbody tr th {\n",
       "        vertical-align: top;\n",
       "    }\n",
       "\n",
       "    .dataframe thead th {\n",
       "        text-align: right;\n",
       "    }\n",
       "</style>\n",
       "<table border=\"1\" class=\"dataframe\">\n",
       "  <thead>\n",
       "    <tr style=\"text-align: right;\">\n",
       "      <th></th>\n",
       "      <th>title</th>\n",
       "      <th>eventStrength</th>\n",
       "      <th>person_id</th>\n",
       "    </tr>\n",
       "  </thead>\n",
       "  <tbody>\n",
       "    <tr>\n",
       "      <th>51</th>\n",
       "      <td>Former Google career coach shares a visual tri...</td>\n",
       "      <td>6.0</td>\n",
       "      <td>2</td>\n",
       "    </tr>\n",
       "    <tr>\n",
       "      <th>48</th>\n",
       "      <td>Request lesson : How and when to use はず(=hazu)...</td>\n",
       "      <td>3.0</td>\n",
       "      <td>2</td>\n",
       "    </tr>\n",
       "    <tr>\n",
       "      <th>49</th>\n",
       "      <td>Aposta na inovação</td>\n",
       "      <td>3.0</td>\n",
       "      <td>2</td>\n",
       "    </tr>\n",
       "    <tr>\n",
       "      <th>50</th>\n",
       "      <td>The Algorithm March, Japan's Strangely Enterta...</td>\n",
       "      <td>3.0</td>\n",
       "      <td>2</td>\n",
       "    </tr>\n",
       "    <tr>\n",
       "      <th>54</th>\n",
       "      <td>Como são escrita as risadas em japonês? - Suki...</td>\n",
       "      <td>3.0</td>\n",
       "      <td>2</td>\n",
       "    </tr>\n",
       "    <tr>\n",
       "      <th>52</th>\n",
       "      <td>A minha viagem à Maternidade #tetodomundo</td>\n",
       "      <td>1.0</td>\n",
       "      <td>2</td>\n",
       "    </tr>\n",
       "    <tr>\n",
       "      <th>53</th>\n",
       "      <td>Learn Hiragana: The Ultimate Guide</td>\n",
       "      <td>1.0</td>\n",
       "      <td>2</td>\n",
       "    </tr>\n",
       "  </tbody>\n",
       "</table>\n",
       "</div>"
      ],
      "text/plain": [
       "                                                title  eventStrength  \\\n",
       "51  Former Google career coach shares a visual tri...            6.0   \n",
       "48  Request lesson : How and when to use はず(=hazu)...            3.0   \n",
       "49                                 Aposta na inovação            3.0   \n",
       "50  The Algorithm March, Japan's Strangely Enterta...            3.0   \n",
       "54  Como são escrita as risadas em japonês? - Suki...            3.0   \n",
       "52          A minha viagem à Maternidade #tetodomundo            1.0   \n",
       "53                 Learn Hiragana: The Ultimate Guide            1.0   \n",
       "\n",
       "    person_id  \n",
       "51          2  \n",
       "48          2  \n",
       "49          2  \n",
       "50          2  \n",
       "54          2  \n",
       "52          2  \n",
       "53          2  "
      ]
     },
     "execution_count": 54,
     "metadata": {},
     "output_type": "execute_result"
    }
   ],
   "source": [
    "grouped_df.loc[grouped_df['person_id'] == 2].sort_values(by=['eventStrength'], ascending=False)[['title', 'eventStrength', 'person_id']]"
   ]
  },
  {
   "cell_type": "code",
   "execution_count": 55,
   "metadata": {},
   "outputs": [
    {
     "name": "stdout",
     "output_type": "stream",
     "text": [
      "                                               title     score\n",
      "0  Como são escrita as risadas em japonês? - Suki...  0.869312\n",
      "1  'The Simpsons' celebrates 600 episodes with a ...  0.780623\n",
      "2  Ganhe 6 meses de acesso ao Pluralsight, maior ...  0.773376\n",
      "3  Request lesson : How and when to use はず(=hazu)...  0.692939\n",
      "4                               Jenkins 2.0 is here!  0.691413\n",
      "5  Carteira inteligente tem trava biométrica e co...  0.688973\n",
      "6                    Novidades do Android Studio 2.2  0.667798\n",
      "7           Programação Reativa Funcional com RxJava  0.667180\n",
      "8  Comercial japonês cria cidade de papel com can...  0.660740\n",
      "9          Speeding up ReSharper (and Visual Studio)  0.654841\n"
     ]
    }
   ],
   "source": [
    "\n",
    "person_id = 1\n",
    "\n",
    "recommendations = recommend(person_id, sparse_person_content, person_vecs, content_vecs)\n",
    "\n",
    "print(recommendations)"
   ]
  },
  {
   "cell_type": "code",
   "execution_count": 56,
   "metadata": {},
   "outputs": [
    {
     "data": {
      "text/html": [
       "<div>\n",
       "<style scoped>\n",
       "    .dataframe tbody tr th:only-of-type {\n",
       "        vertical-align: middle;\n",
       "    }\n",
       "\n",
       "    .dataframe tbody tr th {\n",
       "        vertical-align: top;\n",
       "    }\n",
       "\n",
       "    .dataframe thead th {\n",
       "        text-align: right;\n",
       "    }\n",
       "</style>\n",
       "<table border=\"1\" class=\"dataframe\">\n",
       "  <thead>\n",
       "    <tr style=\"text-align: right;\">\n",
       "      <th></th>\n",
       "      <th>title</th>\n",
       "      <th>eventStrength</th>\n",
       "      <th>person_id</th>\n",
       "    </tr>\n",
       "  </thead>\n",
       "  <tbody>\n",
       "    <tr>\n",
       "      <th>44</th>\n",
       "      <td>Learn Hiragana: The Ultimate Guide</td>\n",
       "      <td>3.0</td>\n",
       "      <td>1</td>\n",
       "    </tr>\n",
       "    <tr>\n",
       "      <th>43</th>\n",
       "      <td>Firebase Test Lab for Android</td>\n",
       "      <td>1.0</td>\n",
       "      <td>1</td>\n",
       "    </tr>\n",
       "    <tr>\n",
       "      <th>45</th>\n",
       "      <td>Fresco, sim! - Android Dev BR</td>\n",
       "      <td>1.0</td>\n",
       "      <td>1</td>\n",
       "    </tr>\n",
       "    <tr>\n",
       "      <th>46</th>\n",
       "      <td>Japanese for dummies</td>\n",
       "      <td>1.0</td>\n",
       "      <td>1</td>\n",
       "    </tr>\n",
       "    <tr>\n",
       "      <th>47</th>\n",
       "      <td>Firebase and Google Cloud: better together</td>\n",
       "      <td>1.0</td>\n",
       "      <td>1</td>\n",
       "    </tr>\n",
       "  </tbody>\n",
       "</table>\n",
       "</div>"
      ],
      "text/plain": [
       "                                         title  eventStrength  person_id\n",
       "44          Learn Hiragana: The Ultimate Guide            3.0          1\n",
       "43               Firebase Test Lab for Android            1.0          1\n",
       "45               Fresco, sim! - Android Dev BR            1.0          1\n",
       "46                        Japanese for dummies            1.0          1\n",
       "47  Firebase and Google Cloud: better together            1.0          1"
      ]
     },
     "execution_count": 56,
     "metadata": {},
     "output_type": "execute_result"
    }
   ],
   "source": [
    "grouped_df.loc[grouped_df['person_id'] == 1].sort_values(by=['eventStrength'], ascending=False)[['title', 'eventStrength', 'person_id']]"
   ]
  }
 ],
 "metadata": {
  "kernelspec": {
   "display_name": "Python 3",
   "language": "python",
   "name": "python3"
  },
  "language_info": {
   "codemirror_mode": {
    "name": "ipython",
    "version": 3
   },
   "file_extension": ".py",
   "mimetype": "text/x-python",
   "name": "python",
   "nbconvert_exporter": "python",
   "pygments_lexer": "ipython3",
   "version": "3.7.6"
  }
 },
 "nbformat": 4,
 "nbformat_minor": 2
}
