{
 "cells": [
  {
   "cell_type": "code",
   "execution_count": 1,
   "metadata": {},
   "outputs": [],
   "source": [
    "import numpy as np\n",
    "import pandas as pd"
   ]
  },
  {
   "cell_type": "code",
   "execution_count": 2,
   "metadata": {},
   "outputs": [],
   "source": [
    "from collections import defaultdict"
   ]
  },
  {
   "cell_type": "code",
   "execution_count": 3,
   "metadata": {},
   "outputs": [],
   "source": [
    "ratings = pd.read_csv('ratings.csv')\n",
    "movies = pd.read_csv('movies.csv')"
   ]
  },
  {
   "cell_type": "code",
   "execution_count": 4,
   "metadata": {},
   "outputs": [],
   "source": [
    "# ratings = ratings[ratings['userId'].isin( ratings['userId'].value_counts().head(10).index )]"
   ]
  },
  {
   "cell_type": "code",
   "execution_count": 5,
   "metadata": {},
   "outputs": [],
   "source": [
    "ratings = ratings.groupby('userId' , group_keys=False ).apply( lambda x : x.sample(frac=.5) )"
   ]
  },
  {
   "cell_type": "code",
   "execution_count": 6,
   "metadata": {},
   "outputs": [
    {
     "data": {
      "text/html": [
       "<div>\n",
       "<style scoped>\n",
       "    .dataframe tbody tr th:only-of-type {\n",
       "        vertical-align: middle;\n",
       "    }\n",
       "\n",
       "    .dataframe tbody tr th {\n",
       "        vertical-align: top;\n",
       "    }\n",
       "\n",
       "    .dataframe thead th {\n",
       "        text-align: right;\n",
       "    }\n",
       "</style>\n",
       "<table border=\"1\" class=\"dataframe\">\n",
       "  <thead>\n",
       "    <tr style=\"text-align: right;\">\n",
       "      <th></th>\n",
       "      <th>userId</th>\n",
       "      <th>movieId</th>\n",
       "      <th>rating</th>\n",
       "      <th>timestamp</th>\n",
       "    </tr>\n",
       "  </thead>\n",
       "  <tbody>\n",
       "    <tr>\n",
       "      <th>101</th>\n",
       "      <td>1</td>\n",
       "      <td>1580</td>\n",
       "      <td>3.0</td>\n",
       "      <td>964981125</td>\n",
       "    </tr>\n",
       "    <tr>\n",
       "      <th>150</th>\n",
       "      <td>1</td>\n",
       "      <td>2366</td>\n",
       "      <td>4.0</td>\n",
       "      <td>964982462</td>\n",
       "    </tr>\n",
       "  </tbody>\n",
       "</table>\n",
       "</div>"
      ],
      "text/plain": [
       "     userId  movieId  rating  timestamp\n",
       "101       1     1580     3.0  964981125\n",
       "150       1     2366     4.0  964982462"
      ]
     },
     "execution_count": 6,
     "metadata": {},
     "output_type": "execute_result"
    }
   ],
   "source": [
    "ratings.head(2)"
   ]
  },
  {
   "cell_type": "code",
   "execution_count": 7,
   "metadata": {},
   "outputs": [
    {
     "data": {
      "text/html": [
       "<div>\n",
       "<style scoped>\n",
       "    .dataframe tbody tr th:only-of-type {\n",
       "        vertical-align: middle;\n",
       "    }\n",
       "\n",
       "    .dataframe tbody tr th {\n",
       "        vertical-align: top;\n",
       "    }\n",
       "\n",
       "    .dataframe thead th {\n",
       "        text-align: right;\n",
       "    }\n",
       "</style>\n",
       "<table border=\"1\" class=\"dataframe\">\n",
       "  <thead>\n",
       "    <tr style=\"text-align: right;\">\n",
       "      <th></th>\n",
       "      <th>movieId</th>\n",
       "      <th>title</th>\n",
       "      <th>genres</th>\n",
       "    </tr>\n",
       "  </thead>\n",
       "  <tbody>\n",
       "    <tr>\n",
       "      <th>0</th>\n",
       "      <td>1</td>\n",
       "      <td>Toy Story (1995)</td>\n",
       "      <td>Adventure|Animation|Children|Comedy|Fantasy</td>\n",
       "    </tr>\n",
       "    <tr>\n",
       "      <th>1</th>\n",
       "      <td>2</td>\n",
       "      <td>Jumanji (1995)</td>\n",
       "      <td>Adventure|Children|Fantasy</td>\n",
       "    </tr>\n",
       "  </tbody>\n",
       "</table>\n",
       "</div>"
      ],
      "text/plain": [
       "   movieId             title                                       genres\n",
       "0        1  Toy Story (1995)  Adventure|Animation|Children|Comedy|Fantasy\n",
       "1        2    Jumanji (1995)                   Adventure|Children|Fantasy"
      ]
     },
     "execution_count": 7,
     "metadata": {},
     "output_type": "execute_result"
    }
   ],
   "source": [
    "movies.head(2)"
   ]
  },
  {
   "cell_type": "code",
   "execution_count": 8,
   "metadata": {},
   "outputs": [
    {
     "name": "stdout",
     "output_type": "stream",
     "text": [
      "(50420, 4)\n",
      "(9742, 3)\n"
     ]
    }
   ],
   "source": [
    "print( ratings.shape )\n",
    "print( movies.shape )"
   ]
  },
  {
   "cell_type": "code",
   "execution_count": 9,
   "metadata": {},
   "outputs": [
    {
     "data": {
      "image/png": "[encoded data removed]",
      "text/plain": [
       "<Figure size 432x288 with 1 Axes>"
      ]
     },
     "metadata": {
      "needs_background": "light"
     },
     "output_type": "display_data"
    }
   ],
   "source": [
    "import matplotlib.pyplot as plt\n",
    "%matplotlib inline\n",
    "plt.hist( ratings['rating'])\n",
    "plt.show()"
   ]
  },
  {
   "cell_type": "code",
   "execution_count": 9,
   "metadata": {},
   "outputs": [],
   "source": [
    "from surprise import SVD, SVDpp, SlopeOne, NMF, NormalPredictor, KNNBaseline, KNNBasic, KNNWithMeans, KNNWithZScore, BaselineOnly, CoClustering\n",
    "\n",
    "from surprise import Dataset ,Reader \n",
    "\n",
    "from surprise.model_selection import train_test_split , LeaveOneOut\n"
   ]
  },
  {
   "cell_type": "code",
   "execution_count": 10,
   "metadata": {},
   "outputs": [],
   "source": [
    "reader = Reader(rating_scale=(0, 5))\n",
    "data = Dataset.load_from_df(ratings[['userId', 'movieId', 'rating']], reader)"
   ]
  },
  {
   "cell_type": "code",
   "execution_count": 11,
   "metadata": {},
   "outputs": [],
   "source": [
    "[trainset , testset] = train_test_split( data , test_size = .15 , shuffle = True )"
   ]
  },
  {
   "cell_type": "code",
   "execution_count": 12,
   "metadata": {},
   "outputs": [],
   "source": [
    "algo = SVD(random_state = 0 )\n",
    "algo.fit( trainset )\n",
    "predictions = algo.test( testset )"
   ]
  },
  {
   "cell_type": "code",
   "execution_count": 13,
   "metadata": {},
   "outputs": [],
   "source": [
    "from ipynb.fs.full.EvaluationMetrics import RecommendationMetrics"
   ]
  },
  {
   "cell_type": "markdown",
   "metadata": {},
   "source": [
    "# Basic Validation"
   ]
  },
  {
   "cell_type": "code",
   "execution_count": 61,
   "metadata": {},
   "outputs": [
    {
     "name": "stdout",
     "output_type": "stream",
     "text": [
      "Evaluating accuracy of model\n",
      "\n",
      "RMSE of the Model :  0.9021972678611864\n",
      "MAE of the Model :  0.6945431713576792\n"
     ]
    }
   ],
   "source": [
    "print( 'Evaluating accuracy of model')\n",
    "print()\n",
    "print('RMSE of the Model : ',RecommendationMetrics.RMSE(predictions) )\n",
    "print('MAE of the Model : ',RecommendationMetrics.MAE(predictions) )"
   ]
  },
  {
   "cell_type": "markdown",
   "metadata": {},
   "source": [
    "# Cross Validation to check how the model will perform for different dataset "
   ]
  },
  {
   "cell_type": "code",
   "execution_count": 97,
   "metadata": {
    "scrolled": true
   },
   "outputs": [
    {
     "name": "stdout",
     "output_type": "stream",
     "text": [
      "Evaluating RMSE, MAE of algorithm SVD on 5 split(s).\n",
      "\n",
      "                  Fold 1  Fold 2  Fold 3  Fold 4  Fold 5  Mean    Std     \n",
      "RMSE (testset)    0.8913  0.8859  0.8998  0.8973  0.9108  0.8970  0.0084  \n",
      "MAE (testset)     0.6864  0.6843  0.6905  0.6924  0.6973  0.6902  0.0046  \n",
      "Fit time          4.17    4.13    4.25    4.38    4.28    4.24    0.09    \n",
      "Test time         0.10    0.09    0.09    0.11    0.10    0.10    0.00    \n"
     ]
    },
    {
     "data": {
      "text/plain": [
       "{'test_rmse': array([0.89125499, 0.88587363, 0.89979079, 0.89734809, 0.9107955 ]),\n",
       " 'test_mae': array([0.68637631, 0.68426296, 0.69053933, 0.69241317, 0.69730692]),\n",
       " 'fit_time': (4.17397665977478,\n",
       "  4.129962682723999,\n",
       "  4.252964735031128,\n",
       "  4.379033803939819,\n",
       "  4.277015209197998),\n",
       " 'test_time': (0.09702110290527344,\n",
       "  0.09402251243591309,\n",
       "  0.09400105476379395,\n",
       "  0.10500073432922363,\n",
       "  0.09500265121459961)}"
      ]
     },
     "execution_count": 97,
     "metadata": {},
     "output_type": "execute_result"
    }
   ],
   "source": [
    "from surprise.model_selection import cross_validate\n",
    "cross_validate(algo, data, measures=['RMSE', 'MAE'], cv=5, verbose=True)"
   ]
  },
  {
   "cell_type": "markdown",
   "metadata": {},
   "source": [
    "# TopN Validations techniques"
   ]
  },
  {
   "cell_type": "code",
   "execution_count": 98,
   "metadata": {},
   "outputs": [
    {
     "name": "stdout",
     "output_type": "stream",
     "text": [
      "Computing Recommendation with leave-one-out model\n",
      "predicting ratings for left out set\n",
      "Predict all missing ratings\n",
      "Compute Top 10 recommendation per User\n",
      "\n",
      "Hit Rate: 0.021311475409836064\n",
      "\n",
      "ARHR(Average Reciprocal Hit Rate Value ) : 0.005766978922716629\n",
      "\n",
      "cHR(Cummulative Hit Rate Value ) : 0.03560830860534125\n",
      "\n",
      "rHR(Hit Rate by rating value ) :\n",
      "3.5 0.019230769230769232\n",
      "4.0 0.017241379310344827\n",
      "4.5 0.01818181818181818\n",
      "5.0 0.07407407407407407\n"
     ]
    }
   ],
   "source": [
    "LOOCV = LeaveOneOut(n_splits=1 , random_state = 0 )\n",
    "\n",
    "for trainset , testset in LOOCV.split(data):\n",
    "    \n",
    "    print('Computing Recommendation with leave-one-out model')\n",
    "    algo.fit( trainset )\n",
    "    \n",
    "    print('predicting ratings for left out set')\n",
    "    leftOutPrediction = algo.test( testset )\n",
    "    \n",
    "    print('Predict all missing ratings')\n",
    "    bigTestSet = trainset.build_anti_testset()\n",
    "    allpredictions = algo.test( bigTestSet )\n",
    "    \n",
    "    print('Compute Top 10 recommendation per User')\n",
    "    topNPredicted = RecommendationMetrics.GetTopN( allpredictions , n = 10 )\n",
    "    \n",
    "    print('\\nHit Rate:' , RecommendationMetrics.HitRate(topNPredicted, leftOutPrediction) )\n",
    "    \n",
    "    print('\\nARHR(Average Reciprocal Hit Rate Value ) :' , RecommendationMetrics.AverageReciprocalHitRank(topNPredicted, leftOutPrediction) )\n",
    "    \n",
    "    print('\\ncHR(Cummulative Hit Rate Value ) :' , RecommendationMetrics.CumulativeHitRate(topNPredicted, leftOutPrediction, ratingCutoff=4) )\n",
    "    \n",
    "    print('\\nrHR(Hit Rate by rating value ) :' )\n",
    "    RecommendationMetrics.RatingHitRate(topNPredicted, leftOutPrediction) \n"
   ]
  },
  {
   "cell_type": "code",
   "execution_count": 14,
   "metadata": {},
   "outputs": [],
   "source": [
    "fullTrainSet = data.build_full_trainset()\n",
    "algo.fit( fullTrainSet )\n",
    "bigTestSet = fullTrainSet.build_anti_testset()\n",
    "\n",
    "allPredictions = algo.test( bigTestSet )\n",
    "topNPredicted = RecommendationMetrics.GetTopN( allPredictions , n = 10 )"
   ]
  },
  {
   "cell_type": "code",
   "execution_count": 15,
   "metadata": {},
   "outputs": [
    {
     "name": "stdout",
     "output_type": "stream",
     "text": [
      "User Coverage : 0.9229508196721311\n"
     ]
    }
   ],
   "source": [
    "print('User Coverage :' , RecommendationMetrics.UserCoverage( topNPredicted ,fullTrainSet.n_users, ratingThreshold=4) )"
   ]
  },
  {
   "cell_type": "code",
   "execution_count": 16,
   "metadata": {},
   "outputs": [
    {
     "name": "stdout",
     "output_type": "stream",
     "text": [
      "Computing the cosine similarity matrix...\n",
      "Done computing similarity matrix.\n"
     ]
    },
    {
     "data": {
      "text/plain": [
       "<surprise.prediction_algorithms.knns.KNNWithMeans at 0x2c412c5e0f0>"
      ]
     },
     "execution_count": 16,
     "metadata": {},
     "output_type": "execute_result"
    }
   ],
   "source": [
    "from surprise import KNNWithMeans\n",
    "simsAlgo = KNNWithMeans( k=30 , sim_options = {'name' : 'cosine' , 'user_based' : False } )\n",
    "simsAlgo.fit( fullTrainSet )"
   ]
  },
  {
   "cell_type": "code",
   "execution_count": 17,
   "metadata": {},
   "outputs": [
    {
     "name": "stdout",
     "output_type": "stream",
     "text": [
      "Computing the cosine similarity matrix...\n",
      "Done computing similarity matrix.\n",
      "Diversity :  1.0\n"
     ]
    }
   ],
   "source": [
    "print('Diversity : ' , RecommendationMetrics.Diversity( topNPredicted , simsAlgo ) )"
   ]
  },
  {
   "cell_type": "code",
   "execution_count": 18,
   "metadata": {},
   "outputs": [],
   "source": [
    "popularity = ratings.groupby('movieId').agg({'userId':'count'}).sort_values('userId' , ascending = False)\n",
    "popularity['rank'] = popularity['userId'].rank(method='first', ascending=False  )\n",
    "ranking = popularity['rank'].to_dict()"
   ]
  },
  {
   "cell_type": "code",
   "execution_count": 19,
   "metadata": {},
   "outputs": [
    {
     "name": "stdout",
     "output_type": "stream",
     "text": [
      "Novelty (average popularity Rank) :  257.2637571157495\n"
     ]
    }
   ],
   "source": [
    "print( 'Novelty (average popularity Rank) : ' , RecommendationMetrics.Novelty( topNPredicted , ranking ) )"
   ]
  },
  {
   "cell_type": "code",
   "execution_count": null,
   "metadata": {},
   "outputs": [],
   "source": []
  }
 ],
 "metadata": {
  "kernelspec": {
   "display_name": "Python 3",
   "language": "python",
   "name": "python3"
  },
  "language_info": {
   "codemirror_mode": {
    "name": "ipython",
    "version": 3
   },
   "file_extension": ".py",
   "mimetype": "text/x-python",
   "name": "python",
   "nbconvert_exporter": "python",
   "pygments_lexer": "ipython3",
   "version": "3.7.3"
  }
 },
 "nbformat": 4,
 "nbformat_minor": 2
}
